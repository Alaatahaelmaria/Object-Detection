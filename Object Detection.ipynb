{
 "cells": [
  {
   "cell_type": "code",
   "execution_count": 1,
   "id": "e93192bb",
   "metadata": {},
   "outputs": [
    {
     "name": "stdout",
     "output_type": "stream",
     "text": [
      "Requirement already satisfied: imutils in c:\\users\\freecomp\\anaconda3\\lib\\site-packages (0.5.4)\n"
     ]
    }
   ],
   "source": [
    "!pip install imutils"
   ]
  },
  {
   "cell_type": "markdown",
   "id": "7f4789aa",
   "metadata": {},
   "source": [
    "# import libraries"
   ]
  },
  {
   "cell_type": "code",
   "execution_count": 2,
   "id": "42ce57b0",
   "metadata": {},
   "outputs": [],
   "source": [
    "import cv2 \n",
    "import imutils "
   ]
  },
  {
   "cell_type": "markdown",
   "id": "58a2a05b",
   "metadata": {},
   "source": [
    "#  Initializing the HOG person \" detector \""
   ]
  },
  {
   "cell_type": "code",
   "execution_count": 3,
   "id": "8a69b1e7",
   "metadata": {},
   "outputs": [],
   "source": [
    "hog = cv2.HOGDescriptor() \n",
    "hog.setSVMDetector(cv2.HOGDescriptor_getDefaultPeopleDetector()) "
   ]
  },
  {
   "cell_type": "markdown",
   "id": "4a8efdf7",
   "metadata": {},
   "source": [
    "#  Reading the Image "
   ]
  },
  {
   "cell_type": "code",
   "execution_count": 4,
   "id": "8945caf7",
   "metadata": {},
   "outputs": [],
   "source": [
    "image = cv2.imread('img.jpeg') "
   ]
  },
  {
   "cell_type": "markdown",
   "id": "edc630f1",
   "metadata": {},
   "source": [
    "# Resizing the Image  "
   ]
  },
  {
   "cell_type": "code",
   "execution_count": 5,
   "id": "a812dbfc",
   "metadata": {},
   "outputs": [],
   "source": [
    "image = imutils.resize(image,width=min(400, image.shape[1])) "
   ]
  },
  {
   "cell_type": "markdown",
   "id": "556c6695",
   "metadata": {},
   "source": [
    "# Show image"
   ]
  },
  {
   "cell_type": "code",
   "execution_count": 6,
   "id": "daedf8fd",
   "metadata": {},
   "outputs": [],
   "source": [
    "cv2.imshow('people.jpeg',image)"
   ]
  },
  {
   "cell_type": "code",
   "execution_count": 7,
   "id": "fc1e691f",
   "metadata": {},
   "outputs": [
    {
     "data": {
      "text/plain": [
       "array([[[ 34,  26,  26],\n",
       "        [ 34,  26,  26],\n",
       "        [ 34,  26,  26],\n",
       "        ...,\n",
       "        [ 66,  54,  48],\n",
       "        [ 65,  53,  47],\n",
       "        [ 63,  51,  45]],\n",
       "\n",
       "       [[ 34,  26,  26],\n",
       "        [ 34,  26,  26],\n",
       "        [ 34,  26,  26],\n",
       "        ...,\n",
       "        [ 65,  53,  47],\n",
       "        [ 65,  53,  47],\n",
       "        [ 64,  52,  46]],\n",
       "\n",
       "       [[ 35,  27,  27],\n",
       "        [ 35,  27,  27],\n",
       "        [ 35,  27,  27],\n",
       "        ...,\n",
       "        [ 65,  53,  47],\n",
       "        [ 66,  54,  48],\n",
       "        [ 65,  53,  47]],\n",
       "\n",
       "       ...,\n",
       "\n",
       "       [[121, 109, 103],\n",
       "        [120, 108, 102],\n",
       "        [117, 105,  99],\n",
       "        ...,\n",
       "        [153, 145, 169],\n",
       "        [149, 140, 165],\n",
       "        [138, 129, 154]],\n",
       "\n",
       "       [[120, 108, 102],\n",
       "        [123, 111, 105],\n",
       "        [122, 110, 104],\n",
       "        ...,\n",
       "        [140, 131, 159],\n",
       "        [134, 124, 152],\n",
       "        [121, 112, 140]],\n",
       "\n",
       "       [[131, 119, 113],\n",
       "        [130, 118, 112],\n",
       "        [129, 117, 111],\n",
       "        ...,\n",
       "        [147, 137, 168],\n",
       "        [143, 132, 164],\n",
       "        [137, 127, 158]]], dtype=uint8)"
      ]
     },
     "execution_count": 7,
     "metadata": {},
     "output_type": "execute_result"
    }
   ],
   "source": [
    "image"
   ]
  },
  {
   "cell_type": "markdown",
   "id": "0197f88e",
   "metadata": {},
   "source": [
    "# Detecting all the regions"
   ]
  },
  {
   "cell_type": "code",
   "execution_count": 8,
   "id": "475858c4",
   "metadata": {},
   "outputs": [],
   "source": [
    "(regions, _) = hog.detectMultiScale(image, \n",
    "                                    winStride=(4, 4), \n",
    "                                    padding=(4, 4), \n",
    "                                    scale=1.05) "
   ]
  },
  {
   "cell_type": "markdown",
   "id": "2b106a67",
   "metadata": {},
   "source": [
    "# Drawing the regions in the Image "
   ]
  },
  {
   "cell_type": "code",
   "execution_count": 9,
   "id": "4c965d53",
   "metadata": {},
   "outputs": [],
   "source": [
    "for (x, y, w, h) in regions: \n",
    "    cv2.rectangle(image, (x, y), \n",
    "                 (x + w, y + h), \n",
    "                 (0, 0, 255), 2)"
   ]
  },
  {
   "cell_type": "markdown",
   "id": "969d6f9a",
   "metadata": {},
   "source": [
    "# Showing the output Image  "
   ]
  },
  {
   "cell_type": "code",
   "execution_count": 10,
   "id": "bb945c97",
   "metadata": {},
   "outputs": [],
   "source": [
    "cv2.imshow(\"Image\", image) \n",
    "cv2.waitKey(0) \n",
    "\n",
    "cv2.destroyAllWindows()"
   ]
  }
 ],
 "metadata": {
  "kernelspec": {
   "display_name": "Python 3 (ipykernel)",
   "language": "python",
   "name": "python3"
  },
  "language_info": {
   "codemirror_mode": {
    "name": "ipython",
    "version": 3
   },
   "file_extension": ".py",
   "mimetype": "text/x-python",
   "name": "python",
   "nbconvert_exporter": "python",
   "pygments_lexer": "ipython3",
   "version": "3.9.7"
  }
 },
 "nbformat": 4,
 "nbformat_minor": 5
}
